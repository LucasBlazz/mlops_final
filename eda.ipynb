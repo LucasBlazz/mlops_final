{
 "cells": [
  {
   "cell_type": "code",
   "execution_count": 170,
   "metadata": {},
   "outputs": [],
   "source": [
    "import pandas as pd\n",
    "from ast import literal_eval\n",
    "import json\n",
    "import sys\n"
   ]
  },
  {
   "cell_type": "markdown",
   "metadata": {},
   "source": [
    "Cargando los dataframes"
   ]
  },
  {
   "cell_type": "code",
   "execution_count": 171,
   "metadata": {},
   "outputs": [],
   "source": [
    "reviews_rows = []\n",
    "with open(\"datasets/australian_user_reviews.json\") as f:\n",
    "    for line in f.readlines():\n",
    "        reviews_rows.append(literal_eval(line))\n",
    "\n",
    "df_reviews = pd.DataFrame(reviews_rows)\n"
   ]
  },
  {
   "cell_type": "code",
   "execution_count": 172,
   "metadata": {},
   "outputs": [],
   "source": [
    "usersdata_rows = []\n",
    "with open(\"datasets/australian_users_items.json\") as f:\n",
    "    for line in f.readlines():\n",
    "        usersdata_rows.append(literal_eval(line))\n",
    "\n",
    "df_usersdata = pd.DataFrame(usersdata_rows)"
   ]
  },
  {
   "cell_type": "code",
   "execution_count": 173,
   "metadata": {},
   "outputs": [],
   "source": [
    "games_rows = []\n",
    "with open(\"datasets/output_steam_games.json\") as f:\n",
    "    for line in f:\n",
    "        games_rows.append(json.loads(line))\n",
    "\n",
    "df_games = pd.DataFrame(games_rows)"
   ]
  },
  {
   "cell_type": "markdown",
   "metadata": {},
   "source": [
    "-------------------------------------------------------------------------------------"
   ]
  },
  {
   "cell_type": "markdown",
   "metadata": {},
   "source": [
    "#### DF_REVIEWS"
   ]
  },
  {
   "cell_type": "markdown",
   "metadata": {},
   "source": [
    "Info general:\n",
    "\n",
    "Cambios generales antes de pasar a las modificaciones para las funciones:\n",
    "        \n",
    "        - Desanidar reviews\n",
    "\n",
    "\n",
    "Columnas:\n",
    "\n",
    "        user_id : Id del usuario\n",
    "\n",
    "        user_url: link steam profile\n",
    "\n",
    "        reviews: Un JSON anidado con cada datos de cada reseña hecha, con los campos:\n",
    "                \"funny\":\"\" ( todos estan vacios)\n",
    "                \"posted\": fecha que se escribio la reseña\n",
    "                \"item_id\": ID del juego \n",
    "                \"helpful\": Si la recibió apoyo por otros users o no\n",
    "                \"review\": La review del usuario."
   ]
  },
  {
   "cell_type": "code",
   "execution_count": 174,
   "metadata": {},
   "outputs": [
    {
     "data": {
      "text/plain": [
       "user_id     0\n",
       "user_url    0\n",
       "reviews     0\n",
       "dtype: int64"
      ]
     },
     "execution_count": 174,
     "metadata": {},
     "output_type": "execute_result"
    }
   ],
   "source": [
    "# Revisión de nulos\n",
    "df_reviews.isna().sum()\n",
    "\n"
   ]
  },
  {
   "cell_type": "code",
   "execution_count": 175,
   "metadata": {},
   "outputs": [
    {
     "name": "stdout",
     "output_type": "stream",
     "text": [
      "Valores duplicados en user_id: 314\n",
      "Valores duplicados en user_url: 314\n"
     ]
    }
   ],
   "source": [
    "# Verificando duplicados\n",
    "print(f'Valores duplicados en user_id: {df_reviews[\"user_id\"].duplicated().sum()}')\n",
    "print(f'Valores duplicados en user_url: {df_reviews[\"user_url\"].duplicated().sum()}')"
   ]
  },
  {
   "cell_type": "markdown",
   "metadata": {},
   "source": [
    "------------------------------------------------------------------------------------------------------"
   ]
  },
  {
   "cell_type": "markdown",
   "metadata": {},
   "source": [
    "#### DF_USERSDATA"
   ]
  },
  {
   "cell_type": "markdown",
   "metadata": {},
   "source": [
    "Preview general de los datos originales"
   ]
  },
  {
   "cell_type": "code",
   "execution_count": 176,
   "metadata": {},
   "outputs": [
    {
     "data": {
      "text/html": [
       "<div>\n",
       "<style scoped>\n",
       "    .dataframe tbody tr th:only-of-type {\n",
       "        vertical-align: middle;\n",
       "    }\n",
       "\n",
       "    .dataframe tbody tr th {\n",
       "        vertical-align: top;\n",
       "    }\n",
       "\n",
       "    .dataframe thead th {\n",
       "        text-align: right;\n",
       "    }\n",
       "</style>\n",
       "<table border=\"1\" class=\"dataframe\">\n",
       "  <thead>\n",
       "    <tr style=\"text-align: right;\">\n",
       "      <th></th>\n",
       "      <th>user_id</th>\n",
       "      <th>items_count</th>\n",
       "      <th>steam_id</th>\n",
       "      <th>user_url</th>\n",
       "      <th>items</th>\n",
       "    </tr>\n",
       "  </thead>\n",
       "  <tbody>\n",
       "    <tr>\n",
       "      <th>0</th>\n",
       "      <td>76561197970982479</td>\n",
       "      <td>277</td>\n",
       "      <td>76561197970982479</td>\n",
       "      <td>http://steamcommunity.com/profiles/76561197970...</td>\n",
       "      <td>[{'item_id': '10', 'item_name': 'Counter-Strik...</td>\n",
       "    </tr>\n",
       "    <tr>\n",
       "      <th>1</th>\n",
       "      <td>js41637</td>\n",
       "      <td>888</td>\n",
       "      <td>76561198035864385</td>\n",
       "      <td>http://steamcommunity.com/id/js41637</td>\n",
       "      <td>[{'item_id': '10', 'item_name': 'Counter-Strik...</td>\n",
       "    </tr>\n",
       "    <tr>\n",
       "      <th>2</th>\n",
       "      <td>evcentric</td>\n",
       "      <td>137</td>\n",
       "      <td>76561198007712555</td>\n",
       "      <td>http://steamcommunity.com/id/evcentric</td>\n",
       "      <td>[{'item_id': '1200', 'item_name': 'Red Orchest...</td>\n",
       "    </tr>\n",
       "  </tbody>\n",
       "</table>\n",
       "</div>"
      ],
      "text/plain": [
       "             user_id  items_count           steam_id  \\\n",
       "0  76561197970982479          277  76561197970982479   \n",
       "1            js41637          888  76561198035864385   \n",
       "2          evcentric          137  76561198007712555   \n",
       "\n",
       "                                            user_url  \\\n",
       "0  http://steamcommunity.com/profiles/76561197970...   \n",
       "1               http://steamcommunity.com/id/js41637   \n",
       "2             http://steamcommunity.com/id/evcentric   \n",
       "\n",
       "                                               items  \n",
       "0  [{'item_id': '10', 'item_name': 'Counter-Strik...  \n",
       "1  [{'item_id': '10', 'item_name': 'Counter-Strik...  \n",
       "2  [{'item_id': '1200', 'item_name': 'Red Orchest...  "
      ]
     },
     "execution_count": 176,
     "metadata": {},
     "output_type": "execute_result"
    }
   ],
   "source": [
    "df_usersdata.head(3)"
   ]
  },
  {
   "cell_type": "markdown",
   "metadata": {},
   "source": [
    "Columnas:\n",
    "\n",
    "        \"user_id\": nombre del usuario\n",
    "\n",
    "        \"items_count\": cantidad de items del usuario\n",
    "\n",
    "        \"steam_id\": id de steam\n",
    "\n",
    "        \"user_url\": link al perfil de steam\n",
    "\n",
    "        \"itemss\": Un JSON anidado con datos de cada juego de la cuenta, con los campos:\n",
    "                        \"item_id\": id del juego\n",
    "                        \"item_name\": nombre del juego\n",
    "                        \"playtime_forever\": Tiempo total jugado\n",
    "                        \"playtime_2weeks\": Tiempo jugado en las últimas dos semanas\n",
    "\n",
    "\n",
    "Cambios generales antes de pasar a las modificaciones para las funciones:\n",
    "        \n",
    "        - Cambiar la columna \"items\" a \"itemss\" para que no se confunda con una\n",
    "        funcion de pandas\n",
    "        - Comprobar duplicados entre USER_ID, STEAM_ID Y USER_URL\n",
    "        - Borrar duplicados del que menos tenga\n",
    "        - Borrar las dos columnas que tuvieron más duplicados\n",
    "        - Crear un dataframe con la columna itemss desanidada \n",
    "        - Eliminar las columnas que no estaban anidadas en el dataframe original\n",
    "        \n",
    "        - Eliminar la columna ITEMSS en el dataframe original\n",
    "        - \n",
    "        - Unirlos para las querys a través de la relación uno a muchos como en sql"
   ]
  },
  {
   "cell_type": "markdown",
   "metadata": {},
   "source": [
    "Cambios generales antes de pasar a las modificaciones para las funciones:\n",
    "\n",
    "        - Cambiar la columna \"items\" a \"itemss\" para que no se confunda con una\n",
    "        funcion de pandas"
   ]
  },
  {
   "cell_type": "code",
   "execution_count": 177,
   "metadata": {},
   "outputs": [],
   "source": [
    "\n",
    "df_usersdata.rename(columns={\"items\":\"itemss\"},inplace=True)"
   ]
  },
  {
   "cell_type": "markdown",
   "metadata": {},
   "source": [
    "        - Comprobar duplicados entre USER_ID, STEAM_ID Y USER_URL"
   ]
  },
  {
   "cell_type": "code",
   "execution_count": 178,
   "metadata": {},
   "outputs": [
    {
     "name": "stdout",
     "output_type": "stream",
     "text": [
      "Duplicados en steam_id :685\n",
      "Duplicados en user_id: 684\n",
      "Duplicados en steam_url :684\n"
     ]
    }
   ],
   "source": [
    "print(f'Duplicados en steam_id :{df_usersdata[\"steam_id\"].duplicated().sum()}')\n",
    "print(f'Duplicados en user_id: {df_usersdata[\"user_id\"].duplicated().sum()}')\n",
    "print(f'Duplicados en steam_url :{df_usersdata[\"user_url\"].duplicated().sum()}')\n",
    "\n",
    "# Conlusión:\n",
    "# Nos quedamos con user id ya que es el que menos repetidos tiene, y usar user_url para \n",
    "#relacionar tablas no tiene sentido\n"
   ]
  },
  {
   "cell_type": "markdown",
   "metadata": {},
   "source": [
    "        - Borrar duplicados del que menos tenga\n"
   ]
  },
  {
   "cell_type": "code",
   "execution_count": 179,
   "metadata": {},
   "outputs": [],
   "source": [
    "df_usersdata.drop_duplicates(subset=[\"user_id\"],inplace=True)\n"
   ]
  },
  {
   "cell_type": "markdown",
   "metadata": {},
   "source": [
    "        - Desanidar ITEMSS"
   ]
  },
  {
   "cell_type": "code",
   "execution_count": 180,
   "metadata": {},
   "outputs": [],
   "source": [
    "data_desanidada = []\n",
    "\n",
    "for index, row in df_usersdata.iterrows():\n",
    "    user_id = row['user_id']\n",
    "    items_count = row['items_count']\n",
    "    steam_id = row['steam_id']\n",
    "    user_url = row['user_url']\n",
    "    items = row['itemss']\n",
    "    \n",
    "    for i in items:   \n",
    "        new_row = {\n",
    "        'user_id': user_id,\n",
    "        'items_count': items_count,\n",
    "        'steam_id' : steam_id,\n",
    "        'user_url' : user_url,\n",
    "        'item_id': i.get('item_id', ''),\n",
    "        'item_name': i.get('item_name', ''),\n",
    "        'playtime_forever': i.get('playtime_forever', ''),\n",
    "        'playtime_2weeks': i.get('playtime_2weeks', '')\n",
    "        }\n",
    "        \n",
    "        data_desanidada.append(new_row)\n",
    "\n",
    "df_usersdata_desanidada = pd.DataFrame(data_desanidada)"
   ]
  },
  {
   "cell_type": "markdown",
   "metadata": {},
   "source": [
    "        - Borrar las dos columnas que tuvieron más duplicados"
   ]
  },
  {
   "cell_type": "code",
   "execution_count": 181,
   "metadata": {},
   "outputs": [],
   "source": [
    "df_usersdata.drop(columns=[\"steam_id\",\"user_url\"],inplace=True)"
   ]
  },
  {
   "cell_type": "code",
   "execution_count": 182,
   "metadata": {},
   "outputs": [
    {
     "name": "stdout",
     "output_type": "stream",
     "text": [
      "n° de registros y columnas original: (87626, 3)\n",
      "n° de registros y columnas desanidado: (5094082, 8)\n"
     ]
    }
   ],
   "source": [
    "print(f\"n° de registros y columnas original: {df_usersdata.shape}\")\n",
    "print(f\"n° de registros y columnas desanidado: {df_usersdata_desanidada.shape}\")"
   ]
  },
  {
   "cell_type": "code",
   "execution_count": 183,
   "metadata": {},
   "outputs": [
    {
     "data": {
      "text/html": [
       "<div>\n",
       "<style scoped>\n",
       "    .dataframe tbody tr th:only-of-type {\n",
       "        vertical-align: middle;\n",
       "    }\n",
       "\n",
       "    .dataframe tbody tr th {\n",
       "        vertical-align: top;\n",
       "    }\n",
       "\n",
       "    .dataframe thead th {\n",
       "        text-align: right;\n",
       "    }\n",
       "</style>\n",
       "<table border=\"1\" class=\"dataframe\">\n",
       "  <thead>\n",
       "    <tr style=\"text-align: right;\">\n",
       "      <th></th>\n",
       "      <th>user_id</th>\n",
       "      <th>items_count</th>\n",
       "      <th>steam_id</th>\n",
       "      <th>user_url</th>\n",
       "      <th>item_id</th>\n",
       "      <th>item_name</th>\n",
       "      <th>playtime_forever</th>\n",
       "      <th>playtime_2weeks</th>\n",
       "    </tr>\n",
       "  </thead>\n",
       "  <tbody>\n",
       "    <tr>\n",
       "      <th>0</th>\n",
       "      <td>76561197970982479</td>\n",
       "      <td>277</td>\n",
       "      <td>76561197970982479</td>\n",
       "      <td>http://steamcommunity.com/profiles/76561197970...</td>\n",
       "      <td>10</td>\n",
       "      <td>Counter-Strike</td>\n",
       "      <td>6</td>\n",
       "      <td>0</td>\n",
       "    </tr>\n",
       "  </tbody>\n",
       "</table>\n",
       "</div>"
      ],
      "text/plain": [
       "             user_id  items_count           steam_id  \\\n",
       "0  76561197970982479          277  76561197970982479   \n",
       "\n",
       "                                            user_url item_id       item_name  \\\n",
       "0  http://steamcommunity.com/profiles/76561197970...      10  Counter-Strike   \n",
       "\n",
       "   playtime_forever  playtime_2weeks  \n",
       "0                 6                0  "
      ]
     },
     "execution_count": 183,
     "metadata": {},
     "output_type": "execute_result"
    }
   ],
   "source": [
    "df_usersdata_desanidada.head(1)"
   ]
  },
  {
   "cell_type": "markdown",
   "metadata": {},
   "source": [
    "        - Crear un dataframe nuevo sólo con las columnas que estaban anidadas en ITEMSS y con USER_ID para relacionar los dataframe\n",
    "        "
   ]
  },
  {
   "cell_type": "code",
   "execution_count": 184,
   "metadata": {},
   "outputs": [],
   "source": [
    "\n",
    "columnas_deseadas =[\"user_id\",\"item_id\",\"item_name\",\"playtime_forever\",\"playtime_2weeks\"]\n",
    "\n",
    "df_usersdata_only_items = df_usersdata_desanidada[columnas_deseadas].copy()"
   ]
  },
  {
   "cell_type": "code",
   "execution_count": 185,
   "metadata": {},
   "outputs": [
    {
     "data": {
      "text/html": [
       "<div>\n",
       "<style scoped>\n",
       "    .dataframe tbody tr th:only-of-type {\n",
       "        vertical-align: middle;\n",
       "    }\n",
       "\n",
       "    .dataframe tbody tr th {\n",
       "        vertical-align: top;\n",
       "    }\n",
       "\n",
       "    .dataframe thead th {\n",
       "        text-align: right;\n",
       "    }\n",
       "</style>\n",
       "<table border=\"1\" class=\"dataframe\">\n",
       "  <thead>\n",
       "    <tr style=\"text-align: right;\">\n",
       "      <th></th>\n",
       "      <th>user_id</th>\n",
       "      <th>item_id</th>\n",
       "      <th>item_name</th>\n",
       "      <th>playtime_forever</th>\n",
       "      <th>playtime_2weeks</th>\n",
       "    </tr>\n",
       "  </thead>\n",
       "  <tbody>\n",
       "    <tr>\n",
       "      <th>0</th>\n",
       "      <td>76561197970982479</td>\n",
       "      <td>10</td>\n",
       "      <td>Counter-Strike</td>\n",
       "      <td>6</td>\n",
       "      <td>0</td>\n",
       "    </tr>\n",
       "    <tr>\n",
       "      <th>1</th>\n",
       "      <td>76561197970982479</td>\n",
       "      <td>20</td>\n",
       "      <td>Team Fortress Classic</td>\n",
       "      <td>0</td>\n",
       "      <td>0</td>\n",
       "    </tr>\n",
       "  </tbody>\n",
       "</table>\n",
       "</div>"
      ],
      "text/plain": [
       "             user_id item_id              item_name  playtime_forever  \\\n",
       "0  76561197970982479      10         Counter-Strike                 6   \n",
       "1  76561197970982479      20  Team Fortress Classic                 0   \n",
       "\n",
       "   playtime_2weeks  \n",
       "0                0  \n",
       "1                0  "
      ]
     },
     "execution_count": 185,
     "metadata": {},
     "output_type": "execute_result"
    }
   ],
   "source": [
    "df_usersdata_only_items.head(2)"
   ]
  },
  {
   "cell_type": "markdown",
   "metadata": {},
   "source": [
    "        - Borrar duplicados del dataframe de los items"
   ]
  },
  {
   "cell_type": "code",
   "execution_count": 186,
   "metadata": {},
   "outputs": [
    {
     "data": {
      "text/html": [
       "<div>\n",
       "<style scoped>\n",
       "    .dataframe tbody tr th:only-of-type {\n",
       "        vertical-align: middle;\n",
       "    }\n",
       "\n",
       "    .dataframe tbody tr th {\n",
       "        vertical-align: top;\n",
       "    }\n",
       "\n",
       "    .dataframe thead th {\n",
       "        text-align: right;\n",
       "    }\n",
       "</style>\n",
       "<table border=\"1\" class=\"dataframe\">\n",
       "  <thead>\n",
       "    <tr style=\"text-align: right;\">\n",
       "      <th></th>\n",
       "      <th>user_id</th>\n",
       "      <th>item_id</th>\n",
       "      <th>item_name</th>\n",
       "      <th>playtime_forever</th>\n",
       "      <th>playtime_2weeks</th>\n",
       "    </tr>\n",
       "  </thead>\n",
       "  <tbody>\n",
       "    <tr>\n",
       "      <th>0</th>\n",
       "      <td>76561197970982479</td>\n",
       "      <td>10</td>\n",
       "      <td>Counter-Strike</td>\n",
       "      <td>6</td>\n",
       "      <td>0</td>\n",
       "    </tr>\n",
       "    <tr>\n",
       "      <th>1</th>\n",
       "      <td>76561197970982479</td>\n",
       "      <td>20</td>\n",
       "      <td>Team Fortress Classic</td>\n",
       "      <td>0</td>\n",
       "      <td>0</td>\n",
       "    </tr>\n",
       "    <tr>\n",
       "      <th>2</th>\n",
       "      <td>76561197970982479</td>\n",
       "      <td>30</td>\n",
       "      <td>Day of Defeat</td>\n",
       "      <td>7</td>\n",
       "      <td>0</td>\n",
       "    </tr>\n",
       "    <tr>\n",
       "      <th>3</th>\n",
       "      <td>76561197970982479</td>\n",
       "      <td>40</td>\n",
       "      <td>Deathmatch Classic</td>\n",
       "      <td>0</td>\n",
       "      <td>0</td>\n",
       "    </tr>\n",
       "    <tr>\n",
       "      <th>4</th>\n",
       "      <td>76561197970982479</td>\n",
       "      <td>50</td>\n",
       "      <td>Half-Life: Opposing Force</td>\n",
       "      <td>0</td>\n",
       "      <td>0</td>\n",
       "    </tr>\n",
       "    <tr>\n",
       "      <th>...</th>\n",
       "      <td>...</td>\n",
       "      <td>...</td>\n",
       "      <td>...</td>\n",
       "      <td>...</td>\n",
       "      <td>...</td>\n",
       "    </tr>\n",
       "    <tr>\n",
       "      <th>5094077</th>\n",
       "      <td>76561198329548331</td>\n",
       "      <td>346330</td>\n",
       "      <td>BrainBread 2</td>\n",
       "      <td>0</td>\n",
       "      <td>0</td>\n",
       "    </tr>\n",
       "    <tr>\n",
       "      <th>5094078</th>\n",
       "      <td>76561198329548331</td>\n",
       "      <td>373330</td>\n",
       "      <td>All Is Dust</td>\n",
       "      <td>0</td>\n",
       "      <td>0</td>\n",
       "    </tr>\n",
       "    <tr>\n",
       "      <th>5094079</th>\n",
       "      <td>76561198329548331</td>\n",
       "      <td>388490</td>\n",
       "      <td>One Way To Die: Steam Edition</td>\n",
       "      <td>3</td>\n",
       "      <td>3</td>\n",
       "    </tr>\n",
       "    <tr>\n",
       "      <th>5094080</th>\n",
       "      <td>76561198329548331</td>\n",
       "      <td>521570</td>\n",
       "      <td>You Have 10 Seconds 2</td>\n",
       "      <td>4</td>\n",
       "      <td>4</td>\n",
       "    </tr>\n",
       "    <tr>\n",
       "      <th>5094081</th>\n",
       "      <td>76561198329548331</td>\n",
       "      <td>519140</td>\n",
       "      <td>Minds Eyes</td>\n",
       "      <td>3</td>\n",
       "      <td>3</td>\n",
       "    </tr>\n",
       "  </tbody>\n",
       "</table>\n",
       "<p>5094082 rows × 5 columns</p>\n",
       "</div>"
      ],
      "text/plain": [
       "                   user_id item_id                      item_name  \\\n",
       "0        76561197970982479      10                 Counter-Strike   \n",
       "1        76561197970982479      20          Team Fortress Classic   \n",
       "2        76561197970982479      30                  Day of Defeat   \n",
       "3        76561197970982479      40             Deathmatch Classic   \n",
       "4        76561197970982479      50      Half-Life: Opposing Force   \n",
       "...                    ...     ...                            ...   \n",
       "5094077  76561198329548331  346330                   BrainBread 2   \n",
       "5094078  76561198329548331  373330                    All Is Dust   \n",
       "5094079  76561198329548331  388490  One Way To Die: Steam Edition   \n",
       "5094080  76561198329548331  521570          You Have 10 Seconds 2   \n",
       "5094081  76561198329548331  519140                     Minds Eyes   \n",
       "\n",
       "         playtime_forever  playtime_2weeks  \n",
       "0                       6                0  \n",
       "1                       0                0  \n",
       "2                       7                0  \n",
       "3                       0                0  \n",
       "4                       0                0  \n",
       "...                   ...              ...  \n",
       "5094077                 0                0  \n",
       "5094078                 0                0  \n",
       "5094079                 3                3  \n",
       "5094080                 4                4  \n",
       "5094081                 3                3  \n",
       "\n",
       "[5094082 rows x 5 columns]"
      ]
     },
     "execution_count": 186,
     "metadata": {},
     "output_type": "execute_result"
    }
   ],
   "source": [
    "df_usersdata_only_items[\"item_name\"].duplicated().sum()\n",
    "df_usersdata_only_items"
   ]
  },
  {
   "cell_type": "markdown",
   "metadata": {},
   "source": [
    "        - Eliminar la columna ITEMSS en el dataframe original"
   ]
  },
  {
   "cell_type": "code",
   "execution_count": 187,
   "metadata": {},
   "outputs": [],
   "source": [
    "df_usersdata.drop(columns=[\"itemss\"], inplace=True)"
   ]
  },
  {
   "cell_type": "markdown",
   "metadata": {},
   "source": [
    "        - Eliminar el dataframe que fue usado para dividir las tablas (hay que cuidar esa ram que esto se va a hacer deploy en un host gratuito xD )"
   ]
  },
  {
   "cell_type": "code",
   "execution_count": 188,
   "metadata": {},
   "outputs": [],
   "source": [
    "# Gracias por todo compañero \n",
    "df_usersdata_desanidada = None"
   ]
  },
  {
   "cell_type": "code",
   "execution_count": 189,
   "metadata": {},
   "outputs": [
    {
     "data": {
      "text/html": [
       "<div>\n",
       "<style scoped>\n",
       "    .dataframe tbody tr th:only-of-type {\n",
       "        vertical-align: middle;\n",
       "    }\n",
       "\n",
       "    .dataframe tbody tr th {\n",
       "        vertical-align: top;\n",
       "    }\n",
       "\n",
       "    .dataframe thead th {\n",
       "        text-align: right;\n",
       "    }\n",
       "</style>\n",
       "<table border=\"1\" class=\"dataframe\">\n",
       "  <thead>\n",
       "    <tr style=\"text-align: right;\">\n",
       "      <th></th>\n",
       "      <th>user_id</th>\n",
       "      <th>item_id</th>\n",
       "      <th>item_name</th>\n",
       "      <th>playtime_forever</th>\n",
       "      <th>playtime_2weeks</th>\n",
       "    </tr>\n",
       "  </thead>\n",
       "  <tbody>\n",
       "    <tr>\n",
       "      <th>0</th>\n",
       "      <td>76561197970982479</td>\n",
       "      <td>10</td>\n",
       "      <td>Counter-Strike</td>\n",
       "      <td>6</td>\n",
       "      <td>0</td>\n",
       "    </tr>\n",
       "    <tr>\n",
       "      <th>1</th>\n",
       "      <td>76561197970982479</td>\n",
       "      <td>20</td>\n",
       "      <td>Team Fortress Classic</td>\n",
       "      <td>0</td>\n",
       "      <td>0</td>\n",
       "    </tr>\n",
       "    <tr>\n",
       "      <th>2</th>\n",
       "      <td>76561197970982479</td>\n",
       "      <td>30</td>\n",
       "      <td>Day of Defeat</td>\n",
       "      <td>7</td>\n",
       "      <td>0</td>\n",
       "    </tr>\n",
       "  </tbody>\n",
       "</table>\n",
       "</div>"
      ],
      "text/plain": [
       "             user_id item_id              item_name  playtime_forever  \\\n",
       "0  76561197970982479      10         Counter-Strike                 6   \n",
       "1  76561197970982479      20  Team Fortress Classic                 0   \n",
       "2  76561197970982479      30          Day of Defeat                 7   \n",
       "\n",
       "   playtime_2weeks  \n",
       "0                0  \n",
       "1                0  \n",
       "2                0  "
      ]
     },
     "execution_count": 189,
     "metadata": {},
     "output_type": "execute_result"
    }
   ],
   "source": [
    "df_usersdata_only_items.head(3)"
   ]
  },
  {
   "cell_type": "code",
   "execution_count": 190,
   "metadata": {},
   "outputs": [
    {
     "data": {
      "text/html": [
       "<div>\n",
       "<style scoped>\n",
       "    .dataframe tbody tr th:only-of-type {\n",
       "        vertical-align: middle;\n",
       "    }\n",
       "\n",
       "    .dataframe tbody tr th {\n",
       "        vertical-align: top;\n",
       "    }\n",
       "\n",
       "    .dataframe thead th {\n",
       "        text-align: right;\n",
       "    }\n",
       "</style>\n",
       "<table border=\"1\" class=\"dataframe\">\n",
       "  <thead>\n",
       "    <tr style=\"text-align: right;\">\n",
       "      <th></th>\n",
       "      <th>user_id</th>\n",
       "      <th>items_count</th>\n",
       "    </tr>\n",
       "  </thead>\n",
       "  <tbody>\n",
       "    <tr>\n",
       "      <th>0</th>\n",
       "      <td>76561197970982479</td>\n",
       "      <td>277</td>\n",
       "    </tr>\n",
       "    <tr>\n",
       "      <th>1</th>\n",
       "      <td>js41637</td>\n",
       "      <td>888</td>\n",
       "    </tr>\n",
       "    <tr>\n",
       "      <th>2</th>\n",
       "      <td>evcentric</td>\n",
       "      <td>137</td>\n",
       "    </tr>\n",
       "  </tbody>\n",
       "</table>\n",
       "</div>"
      ],
      "text/plain": [
       "             user_id  items_count\n",
       "0  76561197970982479          277\n",
       "1            js41637          888\n",
       "2          evcentric          137"
      ]
     },
     "execution_count": 190,
     "metadata": {},
     "output_type": "execute_result"
    }
   ],
   "source": [
    "df_usersdata.head(3)"
   ]
  },
  {
   "cell_type": "code",
   "execution_count": null,
   "metadata": {},
   "outputs": [],
   "source": []
  },
  {
   "cell_type": "code",
   "execution_count": null,
   "metadata": {},
   "outputs": [],
   "source": []
  },
  {
   "cell_type": "code",
   "execution_count": null,
   "metadata": {},
   "outputs": [],
   "source": []
  },
  {
   "cell_type": "markdown",
   "metadata": {},
   "source": [
    "------------------------------------------------------------------------------------------------"
   ]
  },
  {
   "cell_type": "markdown",
   "metadata": {},
   "source": [
    "#### DF_GAMES"
   ]
  },
  {
   "cell_type": "markdown",
   "metadata": {},
   "source": [
    "Info general:"
   ]
  },
  {
   "cell_type": "code",
   "execution_count": 191,
   "metadata": {},
   "outputs": [],
   "source": [
    "\n",
    "df_games_tamanio_original = sys.getsizeof(df_games) / 1e+6"
   ]
  },
  {
   "cell_type": "markdown",
   "metadata": {},
   "source": [
    "\n",
    "\n",
    "\n",
    "\n",
    "Cantidad de registros : 120445\n",
    "\n",
    "Columnas:    \n",
    "                                                       \n",
    "        Columnas                                                        Cantidad de nulos\n",
    "\n",
    "        \"publisher\": nombre del publisher                              | 96362\n",
    "        \n",
    "        \"genres\": lista con los generos                                | 91593\n",
    "\n",
    "        \"app_name\": nombre de la app                                   | 88312\n",
    "\n",
    "        \"tittle\": titulo de la app                                     | 90360\n",
    "\n",
    "        \"url\": link a la steampage del juego                           | 88310\n",
    "\n",
    "        \"release_date\": fecha de salida del juego                      | 90377\n",
    "\n",
    "        \"tags\": como \"genres\" pero parece que con mas items en la lista| 88473\n",
    "\n",
    "        \"reviews_url\": link a las reviews                              | 88312\n",
    "\n",
    "        \"specs\": lista con especificaciones del juego                  | 88980\n",
    "\n",
    "        \"price\": precio                                                | 89687\n",
    "\n",
    "        \"early_access\": booleano                                       | 88310\n",
    "\n",
    "        \"id\": id del juego                                             | 88312\n",
    "\n",
    "        \"developer\": nombre del desarrollador                          | 91609\n",
    "\n",
    "\n",
    "Taks generales antes de pasar a las modificaciones para las funciones:\n",
    "        \n",
    "        1. Borrar las columnas que no se usen en ninguna funcion:\n",
    "        \"publisher\", \"url\", \"reviews_url\", \"price\", \"early_access\", \"developer\"\n",
    "\n",
    "        2. Tratamiento de nulos:\n",
    "        \n",
    "                2.a. Empezar eliminando los que no tengan ningun dato\n",
    "\n",
    "                2.b. Eliminar los que no tengan release_date (columna clave)\n",
    "\n",
    "        3. Cambiar la fecha de a formato datetime\n",
    "        4.a Comprobar TITTLE y APP_NAME tienen el mismo dato\n",
    "        4.b Comprobar duplicados entre TITTLE y APP_NAME\n",
    "        4.c Quedarse con el que menos duplicados tenga\n",
    "\n",
    "        "
   ]
  },
  {
   "cell_type": "code",
   "execution_count": 192,
   "metadata": {},
   "outputs": [
    {
     "data": {
      "text/plain": [
       "120445"
      ]
     },
     "execution_count": 192,
     "metadata": {},
     "output_type": "execute_result"
    }
   ],
   "source": [
    "# Cantidad de registros iniciales\n",
    "df_games.shape[0]"
   ]
  },
  {
   "cell_type": "code",
   "execution_count": 193,
   "metadata": {},
   "outputs": [],
   "source": [
    "# task 1\n",
    "\n",
    "df_games.drop(columns=[\"publisher\", \"url\", \"reviews_url\", \"price\", \"early_access\", \"developer\"], inplace= True)"
   ]
  },
  {
   "cell_type": "code",
   "execution_count": 194,
   "metadata": {},
   "outputs": [],
   "source": [
    "# task 2.a\n",
    "\n",
    "df_games.dropna(how=\"all\",inplace=True)\n",
    "\n"
   ]
  },
  {
   "cell_type": "code",
   "execution_count": 195,
   "metadata": {},
   "outputs": [],
   "source": [
    "# task 2.b\n",
    "\n",
    "df_games.dropna(subset=[\"release_date\"],inplace=True)"
   ]
  },
  {
   "cell_type": "code",
   "execution_count": 196,
   "metadata": {},
   "outputs": [],
   "source": [
    "# task 3\n",
    "\n",
    "df_games[\"release_date\"] = pd.to_datetime(df_games[\"release_date\"],format=\"%Y-%m-%d\",errors=\"coerce\")\n",
    "\n",
    "# eliminamos las fechas corruptas\n",
    "df_games.dropna(subset=[\"release_date\"],inplace=True)"
   ]
  },
  {
   "cell_type": "code",
   "execution_count": 197,
   "metadata": {},
   "outputs": [
    {
     "name": "stdout",
     "output_type": "stream",
     "text": [
      "Cantidad de registros: 29825\n",
      "Cantidad de datos identicos: 29270\n"
     ]
    }
   ],
   "source": [
    "# task 4.a\n",
    "\n",
    "comparacion = df_games[\"title\"] == df_games[\"app_name\"]\n",
    "\n",
    "print(f\"Cantidad de registros: {df_games.shape[0]}\\nCantidad de datos identicos: {comparacion.sum()}\")\n",
    "\n",
    "# Con cúal me quedo?  \n",
    "# con app_name\n"
   ]
  },
  {
   "cell_type": "code",
   "execution_count": 198,
   "metadata": {},
   "outputs": [
    {
     "name": "stdout",
     "output_type": "stream",
     "text": [
      "N° de duplicados en 30\n",
      "N° de duplicados en 30\n"
     ]
    }
   ],
   "source": [
    "# task 4.b\n",
    "\n",
    "print(f\"N° de duplicados en {df_games['app_name'].duplicated().sum()}\")\n",
    "print(f\"N° de duplicados en {df_games['title'].duplicated().sum()}\")\n",
    "\n",
    "# conclusion: Elimino cualquiera de los dos que ya tienen los m"
   ]
  },
  {
   "cell_type": "code",
   "execution_count": 200,
   "metadata": {},
   "outputs": [],
   "source": [
    "#task 4.c borrar tittle\n",
    "\n",
    "df_games.drop(columns=[\"title\"],inplace=True)"
   ]
  },
  {
   "cell_type": "code",
   "execution_count": 201,
   "metadata": {},
   "outputs": [
    {
     "data": {
      "text/plain": [
       "genres          1234\n",
       "app_name           1\n",
       "release_date       0\n",
       "tags             161\n",
       "specs            669\n",
       "id                 1\n",
       "dtype: int64"
      ]
     },
     "execution_count": 201,
     "metadata": {},
     "output_type": "execute_result"
    }
   ],
   "source": [
    "# Nulos finales\n",
    "df_games.isna().sum()"
   ]
  },
  {
   "cell_type": "code",
   "execution_count": 202,
   "metadata": {},
   "outputs": [
    {
     "name": "stdout",
     "output_type": "stream",
     "text": [
      "Espacio en memoria original: 70.26 MB\n",
      "Espacio en memoria del dataset postcambios: 13.50 MB\n"
     ]
    }
   ],
   "source": [
    "# Tamaño en memoria post cambios\n",
    "\n",
    "df_games_tamanio_postcambios = sys.getsizeof(df_games) / 1e+6\n",
    "\n",
    "print(f\"Espacio en memoria original: {str(df_games_tamanio_original)[0:5]} MB\")\n",
    "print(f\"Espacio en memoria del dataset postcambios: {str(df_games_tamanio_postcambios)[0:5]} MB\")\n",
    "\n",
    "\n"
   ]
  },
  {
   "cell_type": "code",
   "execution_count": 203,
   "metadata": {},
   "outputs": [
    {
     "data": {
      "text/html": [
       "<div>\n",
       "<style scoped>\n",
       "    .dataframe tbody tr th:only-of-type {\n",
       "        vertical-align: middle;\n",
       "    }\n",
       "\n",
       "    .dataframe tbody tr th {\n",
       "        vertical-align: top;\n",
       "    }\n",
       "\n",
       "    .dataframe thead th {\n",
       "        text-align: right;\n",
       "    }\n",
       "</style>\n",
       "<table border=\"1\" class=\"dataframe\">\n",
       "  <thead>\n",
       "    <tr style=\"text-align: right;\">\n",
       "      <th></th>\n",
       "      <th>genres</th>\n",
       "      <th>app_name</th>\n",
       "      <th>release_date</th>\n",
       "      <th>tags</th>\n",
       "      <th>specs</th>\n",
       "      <th>id</th>\n",
       "    </tr>\n",
       "  </thead>\n",
       "  <tbody>\n",
       "    <tr>\n",
       "      <th>88310</th>\n",
       "      <td>[Action, Casual, Indie, Simulation, Strategy]</td>\n",
       "      <td>Lost Summoner Kitty</td>\n",
       "      <td>2018-01-04</td>\n",
       "      <td>[Strategy, Action, Indie, Casual, Simulation]</td>\n",
       "      <td>[Single-player]</td>\n",
       "      <td>761140</td>\n",
       "    </tr>\n",
       "    <tr>\n",
       "      <th>88311</th>\n",
       "      <td>[Free to Play, Indie, RPG, Strategy]</td>\n",
       "      <td>Ironbound</td>\n",
       "      <td>2018-01-04</td>\n",
       "      <td>[Free to Play, Strategy, Indie, RPG, Card Game...</td>\n",
       "      <td>[Single-player, Multi-player, Online Multi-Pla...</td>\n",
       "      <td>643980</td>\n",
       "    </tr>\n",
       "  </tbody>\n",
       "</table>\n",
       "</div>"
      ],
      "text/plain": [
       "                                              genres             app_name  \\\n",
       "88310  [Action, Casual, Indie, Simulation, Strategy]  Lost Summoner Kitty   \n",
       "88311           [Free to Play, Indie, RPG, Strategy]            Ironbound   \n",
       "\n",
       "      release_date                                               tags  \\\n",
       "88310   2018-01-04      [Strategy, Action, Indie, Casual, Simulation]   \n",
       "88311   2018-01-04  [Free to Play, Strategy, Indie, RPG, Card Game...   \n",
       "\n",
       "                                                   specs      id  \n",
       "88310                                    [Single-player]  761140  \n",
       "88311  [Single-player, Multi-player, Online Multi-Pla...  643980  "
      ]
     },
     "execution_count": 203,
     "metadata": {},
     "output_type": "execute_result"
    }
   ],
   "source": [
    "df_games.head(2)"
   ]
  },
  {
   "cell_type": "code",
   "execution_count": 215,
   "metadata": {},
   "outputs": [
    {
     "name": "stdout",
     "output_type": "stream",
     "text": [
      "<class 'pandas.core.frame.DataFrame'>\n",
      "Int64Index: 29825 entries, 88310 to 120443\n",
      "Data columns (total 6 columns):\n",
      " #   Column        Non-Null Count  Dtype         \n",
      "---  ------        --------------  -----         \n",
      " 0   genres        28591 non-null  object        \n",
      " 1   app_name      29824 non-null  object        \n",
      " 2   release_date  29825 non-null  datetime64[ns]\n",
      " 3   tags          29664 non-null  object        \n",
      " 4   specs         29156 non-null  object        \n",
      " 5   id            29824 non-null  object        \n",
      "dtypes: datetime64[ns](1), object(5)\n",
      "memory usage: 1.6+ MB\n"
     ]
    }
   ],
   "source": [
    "df_games.info()"
   ]
  },
  {
   "cell_type": "markdown",
   "metadata": {},
   "source": [
    "-------------------------"
   ]
  },
  {
   "cell_type": "markdown",
   "metadata": {},
   "source": [
    "#### Vistazo general de los principales dataframes"
   ]
  },
  {
   "cell_type": "markdown",
   "metadata": {},
   "source": [
    "Reviews de los usuarios"
   ]
  },
  {
   "cell_type": "code",
   "execution_count": 204,
   "metadata": {},
   "outputs": [
    {
     "data": {
      "text/html": [
       "<div>\n",
       "<style scoped>\n",
       "    .dataframe tbody tr th:only-of-type {\n",
       "        vertical-align: middle;\n",
       "    }\n",
       "\n",
       "    .dataframe tbody tr th {\n",
       "        vertical-align: top;\n",
       "    }\n",
       "\n",
       "    .dataframe thead th {\n",
       "        text-align: right;\n",
       "    }\n",
       "</style>\n",
       "<table border=\"1\" class=\"dataframe\">\n",
       "  <thead>\n",
       "    <tr style=\"text-align: right;\">\n",
       "      <th></th>\n",
       "      <th>user_id</th>\n",
       "      <th>user_url</th>\n",
       "      <th>reviews</th>\n",
       "    </tr>\n",
       "  </thead>\n",
       "  <tbody>\n",
       "    <tr>\n",
       "      <th>0</th>\n",
       "      <td>76561197970982479</td>\n",
       "      <td>http://steamcommunity.com/profiles/76561197970...</td>\n",
       "      <td>[{'funny': '', 'posted': 'Posted November 5, 2...</td>\n",
       "    </tr>\n",
       "    <tr>\n",
       "      <th>1</th>\n",
       "      <td>js41637</td>\n",
       "      <td>http://steamcommunity.com/id/js41637</td>\n",
       "      <td>[{'funny': '', 'posted': 'Posted June 24, 2014...</td>\n",
       "    </tr>\n",
       "  </tbody>\n",
       "</table>\n",
       "</div>"
      ],
      "text/plain": [
       "             user_id                                           user_url  \\\n",
       "0  76561197970982479  http://steamcommunity.com/profiles/76561197970...   \n",
       "1            js41637               http://steamcommunity.com/id/js41637   \n",
       "\n",
       "                                             reviews  \n",
       "0  [{'funny': '', 'posted': 'Posted November 5, 2...  \n",
       "1  [{'funny': '', 'posted': 'Posted June 24, 2014...  "
      ]
     },
     "execution_count": 204,
     "metadata": {},
     "output_type": "execute_result"
    }
   ],
   "source": [
    "df_reviews.head(2)\n"
   ]
  },
  {
   "cell_type": "markdown",
   "metadata": {},
   "source": [
    "Datos del perfil de los usuario y sus items "
   ]
  },
  {
   "cell_type": "code",
   "execution_count": 205,
   "metadata": {},
   "outputs": [
    {
     "data": {
      "text/html": [
       "<div>\n",
       "<style scoped>\n",
       "    .dataframe tbody tr th:only-of-type {\n",
       "        vertical-align: middle;\n",
       "    }\n",
       "\n",
       "    .dataframe tbody tr th {\n",
       "        vertical-align: top;\n",
       "    }\n",
       "\n",
       "    .dataframe thead th {\n",
       "        text-align: right;\n",
       "    }\n",
       "</style>\n",
       "<table border=\"1\" class=\"dataframe\">\n",
       "  <thead>\n",
       "    <tr style=\"text-align: right;\">\n",
       "      <th></th>\n",
       "      <th>user_id</th>\n",
       "      <th>items_count</th>\n",
       "    </tr>\n",
       "  </thead>\n",
       "  <tbody>\n",
       "    <tr>\n",
       "      <th>0</th>\n",
       "      <td>76561197970982479</td>\n",
       "      <td>277</td>\n",
       "    </tr>\n",
       "    <tr>\n",
       "      <th>1</th>\n",
       "      <td>js41637</td>\n",
       "      <td>888</td>\n",
       "    </tr>\n",
       "  </tbody>\n",
       "</table>\n",
       "</div>"
      ],
      "text/plain": [
       "             user_id  items_count\n",
       "0  76561197970982479          277\n",
       "1            js41637          888"
      ]
     },
     "execution_count": 205,
     "metadata": {},
     "output_type": "execute_result"
    }
   ],
   "source": [
    "df_usersdata.head(2)"
   ]
  },
  {
   "cell_type": "code",
   "execution_count": 206,
   "metadata": {},
   "outputs": [
    {
     "data": {
      "text/html": [
       "<div>\n",
       "<style scoped>\n",
       "    .dataframe tbody tr th:only-of-type {\n",
       "        vertical-align: middle;\n",
       "    }\n",
       "\n",
       "    .dataframe tbody tr th {\n",
       "        vertical-align: top;\n",
       "    }\n",
       "\n",
       "    .dataframe thead th {\n",
       "        text-align: right;\n",
       "    }\n",
       "</style>\n",
       "<table border=\"1\" class=\"dataframe\">\n",
       "  <thead>\n",
       "    <tr style=\"text-align: right;\">\n",
       "      <th></th>\n",
       "      <th>user_id</th>\n",
       "      <th>item_id</th>\n",
       "      <th>item_name</th>\n",
       "      <th>playtime_forever</th>\n",
       "      <th>playtime_2weeks</th>\n",
       "    </tr>\n",
       "  </thead>\n",
       "  <tbody>\n",
       "    <tr>\n",
       "      <th>0</th>\n",
       "      <td>76561197970982479</td>\n",
       "      <td>10</td>\n",
       "      <td>Counter-Strike</td>\n",
       "      <td>6</td>\n",
       "      <td>0</td>\n",
       "    </tr>\n",
       "    <tr>\n",
       "      <th>1</th>\n",
       "      <td>76561197970982479</td>\n",
       "      <td>20</td>\n",
       "      <td>Team Fortress Classic</td>\n",
       "      <td>0</td>\n",
       "      <td>0</td>\n",
       "    </tr>\n",
       "  </tbody>\n",
       "</table>\n",
       "</div>"
      ],
      "text/plain": [
       "             user_id item_id              item_name  playtime_forever  \\\n",
       "0  76561197970982479      10         Counter-Strike                 6   \n",
       "1  76561197970982479      20  Team Fortress Classic                 0   \n",
       "\n",
       "   playtime_2weeks  \n",
       "0                0  \n",
       "1                0  "
      ]
     },
     "execution_count": 206,
     "metadata": {},
     "output_type": "execute_result"
    }
   ],
   "source": [
    "df_usersdata_only_items.head(2)"
   ]
  },
  {
   "cell_type": "markdown",
   "metadata": {},
   "source": [
    "Info de los juegos"
   ]
  },
  {
   "cell_type": "code",
   "execution_count": 207,
   "metadata": {},
   "outputs": [
    {
     "data": {
      "text/html": [
       "<div>\n",
       "<style scoped>\n",
       "    .dataframe tbody tr th:only-of-type {\n",
       "        vertical-align: middle;\n",
       "    }\n",
       "\n",
       "    .dataframe tbody tr th {\n",
       "        vertical-align: top;\n",
       "    }\n",
       "\n",
       "    .dataframe thead th {\n",
       "        text-align: right;\n",
       "    }\n",
       "</style>\n",
       "<table border=\"1\" class=\"dataframe\">\n",
       "  <thead>\n",
       "    <tr style=\"text-align: right;\">\n",
       "      <th></th>\n",
       "      <th>genres</th>\n",
       "      <th>app_name</th>\n",
       "      <th>release_date</th>\n",
       "      <th>tags</th>\n",
       "      <th>specs</th>\n",
       "      <th>id</th>\n",
       "    </tr>\n",
       "  </thead>\n",
       "  <tbody>\n",
       "    <tr>\n",
       "      <th>88310</th>\n",
       "      <td>[Action, Casual, Indie, Simulation, Strategy]</td>\n",
       "      <td>Lost Summoner Kitty</td>\n",
       "      <td>2018-01-04</td>\n",
       "      <td>[Strategy, Action, Indie, Casual, Simulation]</td>\n",
       "      <td>[Single-player]</td>\n",
       "      <td>761140</td>\n",
       "    </tr>\n",
       "    <tr>\n",
       "      <th>88311</th>\n",
       "      <td>[Free to Play, Indie, RPG, Strategy]</td>\n",
       "      <td>Ironbound</td>\n",
       "      <td>2018-01-04</td>\n",
       "      <td>[Free to Play, Strategy, Indie, RPG, Card Game...</td>\n",
       "      <td>[Single-player, Multi-player, Online Multi-Pla...</td>\n",
       "      <td>643980</td>\n",
       "    </tr>\n",
       "  </tbody>\n",
       "</table>\n",
       "</div>"
      ],
      "text/plain": [
       "                                              genres             app_name  \\\n",
       "88310  [Action, Casual, Indie, Simulation, Strategy]  Lost Summoner Kitty   \n",
       "88311           [Free to Play, Indie, RPG, Strategy]            Ironbound   \n",
       "\n",
       "      release_date                                               tags  \\\n",
       "88310   2018-01-04      [Strategy, Action, Indie, Casual, Simulation]   \n",
       "88311   2018-01-04  [Free to Play, Strategy, Indie, RPG, Card Game...   \n",
       "\n",
       "                                                   specs      id  \n",
       "88310                                    [Single-player]  761140  \n",
       "88311  [Single-player, Multi-player, Online Multi-Pla...  643980  "
      ]
     },
     "execution_count": 207,
     "metadata": {},
     "output_type": "execute_result"
    }
   ],
   "source": [
    "df_games.head(2)"
   ]
  },
  {
   "cell_type": "code",
   "execution_count": 220,
   "metadata": {},
   "outputs": [
    {
     "data": {
      "text/plain": [
       "Index(['genres', 'app_name', 'release_date', 'tags', 'specs', 'id'], dtype='object')"
      ]
     },
     "execution_count": 220,
     "metadata": {},
     "output_type": "execute_result"
    }
   ],
   "source": [
    "df_games.columns"
   ]
  },
  {
   "cell_type": "markdown",
   "metadata": {},
   "source": [
    "#### Creando un dataframe para cada función"
   ]
  },
  {
   "cell_type": "markdown",
   "metadata": {},
   "source": [
    "##### df_playtimegenre\n",
    "\n",
    "        - Borrar el dato nulo que tiene app_name\n",
    "        POR ALGUN MOTIVO QUE DESCONOZCO NO SE BORRA"
   ]
  },
  {
   "cell_type": "code",
   "execution_count": 211,
   "metadata": {},
   "outputs": [],
   "source": [
    "df_games[\"app_name\"].dropna(inplace=True)"
   ]
  },
  {
   "cell_type": "code",
   "execution_count": 213,
   "metadata": {},
   "outputs": [
    {
     "data": {
      "text/plain": [
       "1"
      ]
     },
     "execution_count": 213,
     "metadata": {},
     "output_type": "execute_result"
    }
   ],
   "source": [
    "df_games[\"app_name\"].isna().sum()"
   ]
  },
  {
   "cell_type": "code",
   "execution_count": 214,
   "metadata": {},
   "outputs": [
    {
     "name": "stdout",
     "output_type": "stream",
     "text": [
      "                genres app_name release_date             tags  \\\n",
      "90890  [Action, Indie]      NaN   2014-08-26  [Action, Indie]   \n",
      "\n",
      "                            specs      id  \n",
      "90890  [Single-player, Game demo]  317160  \n"
     ]
    }
   ],
   "source": [
    "filtro_dato_nulo = df_games[\"app_name\"].isnull()\n",
    "dato_nulo = df_games[filtro_dato_nulo]\n",
    "print(dato_nulo)"
   ]
  },
  {
   "cell_type": "code",
   "execution_count": 223,
   "metadata": {},
   "outputs": [],
   "source": [
    "df_games[\"id\"].dropna(inplace=True)\n",
    "\n",
    "df_usersdata_only_items[\"item_id\"].dropna(inplace=True)\n",
    "\n",
    "\n",
    "df_games[\"id\"] = df_games[\"id\"].astype(\"float64\")\n",
    "\n",
    "df_usersdata_only_items[\"item_id\"] = df_usersdata_only_items[\"item_id\"].astype(\"float64\")"
   ]
  },
  {
   "cell_type": "code",
   "execution_count": 228,
   "metadata": {},
   "outputs": [],
   "source": [
    "\n",
    "\n",
    "columnas_dfgames_para_dfplaytimegenre = [\"id\",\"genres\",\"app_name\",\"release_date\"]\n",
    "df_games_para_playtimegenre = df_games[columnas_dfgames_para_dfplaytimegenre].copy()\n",
    "\n",
    "columnas_dfuserdata_para_dfplaytime = [\"user_id\",\"item_id\",\"item_name\",\"playtime_forever\",]\n",
    "df_userdata_onlyitems_para_playtimegenre = df_usersdata_only_items[columnas_dfuserdata_para_dfplaytime].copy()"
   ]
  },
  {
   "cell_type": "code",
   "execution_count": 246,
   "metadata": {},
   "outputs": [],
   "source": [
    "df_playtimegenre = pd.merge(df_userdata_onlyitems_para_playtimegenre,df_games_para_playtimegenre, left_on=\"item_id\",right_on=\"id\",how=\"inner\")"
   ]
  },
  {
   "cell_type": "code",
   "execution_count": 247,
   "metadata": {},
   "outputs": [
    {
     "data": {
      "text/html": [
       "<div>\n",
       "<style scoped>\n",
       "    .dataframe tbody tr th:only-of-type {\n",
       "        vertical-align: middle;\n",
       "    }\n",
       "\n",
       "    .dataframe tbody tr th {\n",
       "        vertical-align: top;\n",
       "    }\n",
       "\n",
       "    .dataframe thead th {\n",
       "        text-align: right;\n",
       "    }\n",
       "</style>\n",
       "<table border=\"1\" class=\"dataframe\">\n",
       "  <thead>\n",
       "    <tr style=\"text-align: right;\">\n",
       "      <th></th>\n",
       "      <th>user_id</th>\n",
       "      <th>item_id</th>\n",
       "      <th>item_name</th>\n",
       "      <th>playtime_forever</th>\n",
       "      <th>id</th>\n",
       "      <th>genres</th>\n",
       "      <th>app_name</th>\n",
       "      <th>release_date</th>\n",
       "    </tr>\n",
       "  </thead>\n",
       "  <tbody>\n",
       "    <tr>\n",
       "      <th>0</th>\n",
       "      <td>76561197970982479</td>\n",
       "      <td>10.0</td>\n",
       "      <td>Counter-Strike</td>\n",
       "      <td>6</td>\n",
       "      <td>10.0</td>\n",
       "      <td>[Action]</td>\n",
       "      <td>Counter-Strike</td>\n",
       "      <td>2000-11-01</td>\n",
       "    </tr>\n",
       "  </tbody>\n",
       "</table>\n",
       "</div>"
      ],
      "text/plain": [
       "             user_id  item_id       item_name  playtime_forever    id  \\\n",
       "0  76561197970982479     10.0  Counter-Strike                 6  10.0   \n",
       "\n",
       "     genres        app_name release_date  \n",
       "0  [Action]  Counter-Strike   2000-11-01  "
      ]
     },
     "execution_count": 247,
     "metadata": {},
     "output_type": "execute_result"
    }
   ],
   "source": [
    "df_playtimegenre.head(1)"
   ]
  },
  {
   "cell_type": "code",
   "execution_count": 243,
   "metadata": {},
   "outputs": [],
   "source": [
    "#df_playtimegenre[\"genres\"] = df_playtimegenre[\"genres\"].apply(lambda x: [x] if isinstance(x,str) else x)"
   ]
  },
  {
   "cell_type": "code",
   "execution_count": 248,
   "metadata": {},
   "outputs": [],
   "source": [
    "df_playtimegenre['genres'] = df_playtimegenre['genres'].apply(lambda x: [x] if not isinstance(x, list) else x)"
   ]
  },
  {
   "cell_type": "code",
   "execution_count": 259,
   "metadata": {},
   "outputs": [
    {
     "name": "stdout",
     "output_type": "stream",
     "text": [
      "{'Año de lanzamiento con más horas jugadas para Género Action': 'Action'}\n"
     ]
    }
   ],
   "source": [
    "def anio_lanzamiento_mas_horas(df_ptg,genero: str):\n",
    "\n",
    "    \n",
    "\n",
    "    df_filtrado = df_ptg[df_ptg[\"genres\"].apply(lambda x: genero in x)]\n",
    "\n",
    "    grupo = df_filtrado.groupby(\"release_date\")[\"playtime_forever\"].sum().reset_index()\n",
    "\n",
    "    res = grupo.loc[grupo[\"playtime_forever\"].idxmax()]\n",
    "\n",
    "    horas = str(res.playtime_forever)\n",
    "\n",
    "    return horas\n",
    "\n",
    "genero_buscar = \"Action\"\n",
    "\n",
    "resultado = anio_lanzamiento_mas_horas(df_playtimegenre,genero_buscar)\n",
    "\n",
    "print({f\"Año de lanzamiento con más horas jugadas para Género {genero_buscar}\": genero_buscar})\n",
    " \n",
    "# {f\"Año de lanzamiento con más horas jugadas para Género {genero}\": maxima_horas_por_año}\n",
    "\n",
    "#{\"Año de lanzamiento con más horas jugadas para Género X\" : 2013}\n",
    "\n"
   ]
  },
  {
   "cell_type": "code",
   "execution_count": 258,
   "metadata": {},
   "outputs": [
    {
     "data": {
      "text/plain": [
       "{'Año de lanzamiento con más horas jugadas para Género Action': 775875211}"
      ]
     },
     "execution_count": 258,
     "metadata": {},
     "output_type": "execute_result"
    }
   ],
   "source": []
  },
  {
   "cell_type": "markdown",
   "metadata": {},
   "source": [
    "\n",
    "\n",
    "\n",
    "\n",
    "Qué columnas y de qué dataframes tendría que usar para crear este?\n",
    "\n",
    "                columnas:\n",
    "\n",
    "                df_games.genre: Todos los generos\n",
    "\n",
    "                df_games.app_name: nombre del juego\n",
    "\n",
    "\n",
    "Datos de la funcion:\n",
    "\n",
    "Recibe como parametro el género\n",
    "\n",
    "Debe retornar el año con mas horas jugadas para dicho género.\n",
    "\n",
    "Ejemplo de retorno: \n",
    "\n",
    "        {\"Año de lanzamiento con más horas jugadas para Género X\" : 2013}\n",
    "\n",
    "Cúal fue el genero que más se jugó este año?\n",
    "\n",
    "tengo que tener el genero\n",
    "el año \n",
    "la cantidad de horas totales de los jugadores \n",
    "\n",
    "\n",
    "\n",
    "\n",
    "                \n",
    "\n",
    "\n",
    "        \n",
    "\n",
    "\n",
    "Como tendria que ser el dataframe para esta función?\n",
    "\n",
    "tener una columna con cada genero, \n",
    "        "
   ]
  },
  {
   "cell_type": "code",
   "execution_count": null,
   "metadata": {},
   "outputs": [],
   "source": []
  },
  {
   "cell_type": "code",
   "execution_count": null,
   "metadata": {},
   "outputs": [],
   "source": []
  },
  {
   "cell_type": "markdown",
   "metadata": {},
   "source": [
    "----------------------------------------------"
   ]
  },
  {
   "cell_type": "markdown",
   "metadata": {},
   "source": [
    "ELEGIR UNO DE DOS \n",
    "\n",
    "Si es un sistema de recomendación item-item:\n",
    "\n",
    "    def recomendacion_juego( id de producto ): Ingresando el id de producto, deberíamos recibir una lista con 5 juegos recomendados similares al ingresado.\n",
    "\n",
    "Si es un sistema de recomendación user-item:\n",
    "\n",
    "    def recomendacion_usuario( id de usuario ): Ingresando el id de un usuario, deberíamos recibir una lista con 5 juegos recomendados para dicho usuario.\n"
   ]
  },
  {
   "cell_type": "code",
   "execution_count": null,
   "metadata": {},
   "outputs": [],
   "source": []
  },
  {
   "cell_type": "markdown",
   "metadata": {},
   "source": [
    "Me confié porque ya habia aprobado el proyecto indivial uno en otra cohorte y le dedique menos tiempo del que deberia haberle dedicado, espero que se note la intencion que tenia de hacer todo de forma muy prolija y ordenada. voy a dedicarle todo mi esfuerzo desde el dia 1 al segundo proyecto para demostrar de lo que soy capaz. De los errores se aprende y sin duda hoy aprendí un montón."
   ]
  }
 ],
 "metadata": {
  "kernelspec": {
   "display_name": "pi-mlops",
   "language": "python",
   "name": "python3"
  },
  "language_info": {
   "codemirror_mode": {
    "name": "ipython",
    "version": 3
   },
   "file_extension": ".py",
   "mimetype": "text/x-python",
   "name": "python",
   "nbconvert_exporter": "python",
   "pygments_lexer": "ipython3",
   "version": "3.11.3"
  },
  "orig_nbformat": 4
 },
 "nbformat": 4,
 "nbformat_minor": 2
}
